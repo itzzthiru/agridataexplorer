{
 "cells": [
  {
   "cell_type": "code",
   "execution_count": null,
   "id": "8b353967",
   "metadata": {},
   "outputs": [],
   "source": [
    "import pandas as pd"
   ]
  },
  {
   "cell_type": "code",
   "execution_count": null,
   "id": "a4308707",
   "metadata": {},
   "outputs": [],
   "source": [
    "df = pd.read_csv(\"D:/agriproject/env/ICRISAT-District Level Data - ICRISAT-District Level Data.csv\")\n",
    "df.head()"
   ]
  },
  {
   "cell_type": "code",
   "execution_count": null,
   "id": "722c26cc",
   "metadata": {},
   "outputs": [],
   "source": [
    "print(df.isnull().sum())"
   ]
  },
  {
   "cell_type": "code",
   "execution_count": null,
   "id": "0cebc0d4",
   "metadata": {},
   "outputs": [],
   "source": [
    "df.info()"
   ]
  },
  {
   "cell_type": "code",
   "execution_count": null,
   "id": "abef134f",
   "metadata": {},
   "outputs": [],
   "source": [
    "df.shape"
   ]
  },
  {
   "cell_type": "code",
   "execution_count": null,
   "id": "8c88932c",
   "metadata": {},
   "outputs": [],
   "source": [
    "df.columns = df.columns.str.strip().str.lower().str.replace(' ','_')"
   ]
  },
  {
   "cell_type": "code",
   "execution_count": null,
   "id": "30d33a8c",
   "metadata": {},
   "outputs": [],
   "source": [
    "df.info()"
   ]
  },
  {
   "cell_type": "code",
   "execution_count": null,
   "id": "40208436",
   "metadata": {},
   "outputs": [],
   "source": [
    "print(df.columns.tolist())"
   ]
  },
  {
   "cell_type": "code",
   "execution_count": null,
   "id": "92d1efe5",
   "metadata": {},
   "outputs": [],
   "source": [
    " ndf = df.drop(columns =['dist_code','state_code','kharif_sorghum_area_(1000_ha)','kharif_sorghum_yield_(kg_per_ha)','rabi_sorghum_area_(1000_ha)',\n",
    "                        'rabi_sorghum_yield_(kg_per_ha)','sorghum_area_(1000_ha)','sorghum_production_(1000_tons)','sorghum_yield_(kg_per_ha)','pearl_millet_area_(1000_ha)','pearl_millet_yield_(kg_per_ha)',\n",
    "                        'finger_millet_area_(1000_ha)','finger_millet_yield_(kg_per_ha)', 'barley_area_(1000_ha)', 'barley_production_(1000_tons)', 'barley_yield_(kg_per_ha)',\n",
    "                        'chickpea_area_(1000_ha)', 'chickpea_production_(1000_tons)', 'chickpea_yield_(kg_per_ha)', 'pigeonpea_area_(1000_ha)', 'pigeonpea_production_(1000_tons)', 'pigeonpea_yield_(kg_per_ha)',\n",
    "                        'minor_pulses_area_(1000_ha)', 'minor_pulses_production_(1000_tons)', 'minor_pulses_yield_(kg_per_ha)','groundnut_area_(1000_ha)','groundnut_yield_(kg_per_ha)', 'sesamum_area_(1000_ha)',\n",
    "                        'sesamum_production_(1000_tons)', 'sesamum_yield_(kg_per_ha)', 'rapeseed_and_mustard_area_(1000_ha)', 'rapeseed_and_mustard_production_(1000_tons)', 'rapeseed_and_mustard_yield_(kg_per_ha)',\n",
    "                        'safflower_area_(1000_ha)', 'safflower_production_(1000_tons)', 'safflower_yield_(kg_per_ha)', 'castor_area_(1000_ha)', 'castor_production_(1000_tons)', 'castor_yield_(kg_per_ha)',\n",
    "                        'linseed_area_(1000_ha)', 'linseed_production_(1000_tons)', 'linseed_yield_(kg_per_ha)','sunflower_area_(1000_ha)','sunflower_yield_(kg_per_ha)', 'soyabean_area_(1000_ha)','oilseeds_yield_(kg_per_ha)',\n",
    "                        'sugarcane_area_(1000_ha)','sugarcane_yield_(kg_per_ha)', 'cotton_area_(1000_ha)', 'cotton_production_(1000_tons)', 'cotton_yield_(kg_per_ha)', 'fruits_area_(1000_ha)', 'vegetables_area_(1000_ha)',\n",
    "                        'fruits_and_vegetables_area_(1000_ha)', 'potatoes_area_(1000_ha)', 'onion_area_(1000_ha)', 'fodder_area_(1000_ha)'] )"
   ]
  },
  {
   "cell_type": "code",
   "execution_count": null,
   "id": "f0318497",
   "metadata": {},
   "outputs": [],
   "source": [
    "for col in ndf.columns:\n",
    "    print(col)"
   ]
  },
  {
   "cell_type": "code",
   "execution_count": null,
   "id": "66a75a19",
   "metadata": {},
   "outputs": [],
   "source": [
    "import matplotlib.pyplot as plt\n",
    "import seaborn as sns"
   ]
  },
  {
   "cell_type": "code",
   "execution_count": null,
   "id": "0491deef",
   "metadata": {},
   "outputs": [],
   "source": [
    "top_rice_states = ndf.groupby('state_name')['rice_production_(1000_tons)'].sum().sort_values(ascending = False).head(7)\n",
    "plt.figure(figsize = (10,6))\n",
    "sns.barplot(x=top_rice_states.values, hue=top_rice_states.index,palette=\"YlGn\")\n",
    "plt.title(\"Top 7 Rice Producing States of India\")\n",
    "plt.xlabel(\"Rice Production\")\n",
    "plt.ylabel(\"States\")\n",
    "plt.tight_layout()\n",
    "plt.show()"
   ]
  },
  {
   "cell_type": "code",
   "execution_count": null,
   "id": "b617a82a",
   "metadata": {},
   "outputs": [],
   "source": [
    "top_5_wheat_states = ndf.groupby('state_name')['wheat_production_(1000_tons)'].sum().sort_values(ascending=False).head(5)\n",
    "plt.figure(figsize=(10,6))\n",
    "sns.barplot(x=top_5_wheat_states.values,hue=top_5_wheat_states.index,palette=\"Blues_d\")\n",
    "plt.title(\"Top 5 Wheat Producing States of India\")\n",
    "plt.xlabel(\"Wheat Production\")\n",
    "plt.ylabel(\"States\")\n",
    "plt.tight_layout()\n",
    "plt.show()\n",
    "\n",
    "plt.figure(figsize =(7,7))\n",
    "plt.pie(top_5_wheat_states.values, labels=top_5_wheat_states.index, autopct=\"%1.1f%%\",colors=sns.color_palette(\"pastel\"))\n",
    "plt.title(\"Percentage Share of Top 5 Wheat Producing States of India\")\n",
    "plt.tight_layout()\n",
    "plt.show()"
   ]
  },
  {
   "cell_type": "code",
   "execution_count": null,
   "id": "d1883be7",
   "metadata": {},
   "outputs": [],
   "source": [
    "top_5_oil_states = ndf.groupby('state_name')['oilseeds_production_(1000_tons)'].sum().sort_values(ascending=False).head(5)\n",
    "plt.figure(figsize=(10,6))\n",
    "sns.barplot(x=top_5_oil_states.values,hue=top_5_oil_states.index,palette=\"Oranges_r\")\n",
    "plt.title(\"Top 5 Oil Producing States of India\")\n",
    "plt.xlabel(\"Oil Production\")\n",
    "plt.ylabel(\"States\")\n",
    "plt.tight_layout()\n",
    "plt.show()"
   ]
  },
  {
   "cell_type": "code",
   "execution_count": null,
   "id": "63aefb70",
   "metadata": {},
   "outputs": [],
   "source": [
    "top_7_sunflower_states = ndf.groupby('state_name')['sunflower_production_(1000_tons)'].sum().sort_values(ascending=False).head(7)\n",
    "plt.figure(figsize=(10,6))\n",
    "sns.barplot(x=top_7_sunflower_states.values,hue=top_7_sunflower_states.index,palette=\"YlOrBr\")\n",
    "plt.title(\"Top 5 Sunflower Producing States of India\")\n",
    "plt.xlabel(\"Sunflower Production\")\n",
    "plt.ylabel(\"States\")\n",
    "plt.tight_layout()\n",
    "plt.show()\n"
   ]
  },
  {
   "cell_type": "code",
   "execution_count": null,
   "id": "bf11544d",
   "metadata": {},
   "outputs": [],
   "source": [
    "sugarcane_by_year = ndf.groupby('year')['sugarcane_production_(1000_tons)'].sum().reset_index().sort_values('year')\n",
    "\n",
    "if len(sugarcane_by_year) > 50:\n",
    "    sugarcane_by_year = sugarcane_by_year.tail(50)\n",
    "\n",
    "plt.figure(figsize=(12,6))\n",
    "sns.lineplot(data=sugarcane_by_year,x=\"year\",y=\"sugarcane_production_(1000_tons)\",marker='o',color='green')\n",
    "plt.title(\"India's Sugarcane Production Over the Last 50 Years\")\n",
    "plt.xlabel(\"Year\")\n",
    "plt.ylabel(\"Sugarcane Production\")\n",
    "plt.grid(True)\n",
    "plt.tight_layout()\n",
    "plt.show()"
   ]
  },
  {
   "cell_type": "code",
   "execution_count": null,
   "id": "c731b087",
   "metadata": {},
   "outputs": [],
   "source": [
    "production_by_year = ndf.groupby('year')[['rice_production_(1000_tons)','wheat_production_(1000_tons)']].sum().reset_index().sort_values('year')\n",
    "\n",
    "if len(production_by_year) > 50:\n",
    "    production_by_year = production_by_year.tail(50)\n",
    "\n",
    "plt.figure(figsize=(12,6))\n",
    "sns.lineplot(data=production_by_year,x=\"year\",y=\"rice_production_(1000_tons)\",label=\"Rice\",marker='o')\n",
    "sns.lineplot(data=production_by_year,x=\"year\",y=\"wheat_production_(1000_tons)\",label=\"Wheat\",marker='s')\n",
    "plt.title(\"Rice vs Wheat Production in India (Last 50 Years)\")\n",
    "plt.xlabel(\"Year\")\n",
    "plt.ylabel(\"Production (1000 tons)\")\n",
    "plt.grid(True)\n",
    "plt.legend()\n",
    "plt.tight_layout()\n",
    "plt.show()"
   ]
  },
  {
   "cell_type": "code",
   "execution_count": null,
   "id": "30465f88",
   "metadata": {},
   "outputs": [],
   "source": [
    "wb_rice = ndf[ndf['state_name']=='West Bengal']\n",
    "rice_by_district  = wb_rice.groupby('dist_name')['rice_production_(1000_tons)'].sum().sort_values(ascending=False)\n",
    "plt.figure(figsize=(10,6))\n",
    "sns.barplot(x=rice_by_district .values,hue=rice_by_district .index)\n",
    "plt.title(\"Rice Production by Districts in West Bengal\")\n",
    "plt.xlabel(\"Rice Production (1000 tons)\")\n",
    "plt.ylabel(\"District\")\n",
    "plt.tight_layout()\n",
    "plt.show()\n"
   ]
  },
  {
   "cell_type": "code",
   "execution_count": null,
   "id": "89cf09d6",
   "metadata": {},
   "outputs": [],
   "source": [
    "up_wheat = ndf[ndf['state_name']=='Uttar Pradesh']\n",
    "wheat_by_district  = up_wheat.groupby('year')['wheat_production_(1000_tons)'].sum().sort_values(ascending=False).head(10)\n",
    "wheat_by_district = wheat_by_district.sort_index()\n",
    "plt.figure(figsize=(10,6))\n",
    "sns.barplot(x=wheat_by_district.index.astype(str),y=wheat_by_district.values,color=\"Purple\")\n",
    "plt.title(\"Top 10 Wheat Production Years in Uttar Pradesh\")\n",
    "plt.xlabel(\"Year\")\n",
    "plt.ylabel(\"Wheat Production (1000 tons)\")\n",
    "plt.tight_layout()\n",
    "plt.show()\n"
   ]
  },
  {
   "cell_type": "code",
   "execution_count": null,
   "id": "3e0f27fe",
   "metadata": {},
   "outputs": [],
   "source": [
    "ndf['millets_production_(1000_tons)'] = (ndf['pearl_millet_production_(1000_tons)'] +ndf['finger_millet_production_(1000_tons)'])\n",
    "millets_by_year = ndf.groupby('year')['millets_production_(1000_tons)'].sum().reset_index().sort_values('year')\n",
    "\n",
    "if len(millets_by_year) > 50:\n",
    "    millets_by_year = millets_by_year.tail(50)\n",
    "\n",
    "plt.figure(figsize=(12,6))\n",
    "sns.lineplot(data=millets_by_year,x=\"year\",y=\"millets_production_(1000_tons)\",marker='o',color='brown')\n",
    "plt.title(\"Millet Production in India (Last 50 Years)\")\n",
    "plt.xlabel(\"Year\")\n",
    "plt.ylabel(\"Millet Production (1000 tons)\")\n",
    "plt.grid(True)\n",
    "plt.tight_layout()\n",
    "plt.show()"
   ]
  },
  {
   "cell_type": "code",
   "execution_count": null,
   "id": "66d61d2e",
   "metadata": {},
   "outputs": [],
   "source": [
    "sorghum_by_state = ndf.groupby('state_name')[['kharif_sorghum_production_(1000_tons)','rabi_sorghum_production_(1000_tons)']].sum ().sort_values(by='kharif_sorghum_production_(1000_tons)',ascending=False)\n",
    "sorghum_by_state.plot(kind='bar', figsize=(12, 6), colormap='Paired')\n",
    "plt.title(\"Sorghum Production (Kharif and Rabi) by State\")\n",
    "plt.xlabel(\"State\")\n",
    "plt.ylabel(\"Sorghum Production (1000 tons)\")\n",
    "plt.tight_layout()\n",
    "plt.legend(title='Season')\n",
    "plt.show()\n"
   ]
  },
  {
   "cell_type": "code",
   "execution_count": null,
   "id": "26e305c4",
   "metadata": {},
   "outputs": [],
   "source": [
    "top_7_groundnut_states = ndf.groupby('state_name')['groundnut_production_(1000_tons)'].sum().sort_values(ascending=False).head(7)\n",
    "plt.figure(figsize=(10,6))\n",
    "sns.barplot(x=top_7_groundnut_states.values,hue=top_7_groundnut_states.index,palette=\"YlOrRd\")\n",
    "plt.title(\"Top 7 Groundnut Producing States in India\")\n",
    "plt.xlabel(\"Groundnut Production (1000 tons)\")\n",
    "plt.ylabel(\"States\")\n",
    "plt.tight_layout()\n",
    "plt.show()\n"
   ]
  },
  {
   "cell_type": "code",
   "execution_count": null,
   "id": "f4ad2712",
   "metadata": {},
   "outputs": [],
   "source": [
    "soyabean_by_state = ndf.groupby('state_name').agg({'soyabean_production_(1000_tons)': 'sum','soyabean_yield_(kg_per_ha)': 'mean'})\n",
    "top_5_soyabean_states = soyabean_by_state.sort_values('soyabean_production_(1000_tons)',ascending=False).head(5)\n",
    "plt.figure(figsize=(10, 5))\n",
    "sns.barplot(x=top_5_soyabean_states['soyabean_production_(1000_tons)'], hue=top_5_soyabean_states.index, palette='Greens')\n",
    "plt.title(\"Top 5 Soyabean Producing States\")\n",
    "plt.xlabel(\"Soyabean Production (1000 tons)\")\n",
    "plt.ylabel(\"State\")\n",
    "plt.tight_layout()\n",
    "plt.show()\n",
    "\n",
    "plt.figure(figsize=(10, 5))\n",
    "sns.barplot(x=top_5_soyabean_states['soyabean_yield_(kg_per_ha)'], hue=top_5_soyabean_states.index, palette='Blues')\n",
    "plt.title(\"Soyabean Yield Efficiency in Top 5 Producing States\")\n",
    "plt.xlabel(\"Yield (Kg per ha)\")\n",
    "plt.ylabel(\"State\")\n",
    "plt.tight_layout()\n",
    "plt.show()"
   ]
  },
  {
   "cell_type": "code",
   "execution_count": null,
   "id": "00381fee",
   "metadata": {},
   "outputs": [],
   "source": [
    "oilseed_by_state  = ndf.groupby('state_name')['oilseeds_production_(1000_tons)'].sum().sort_values(ascending=False).head(10)\n",
    "plt.figure(figsize=(10,6))\n",
    "sns.barplot(x=oilseed_by_state .values,hue=oilseed_by_state .index)\n",
    "plt.title(\"Oilseed Production in Major States of India\")\n",
    "plt.xlabel(\"Oilseed Production (1000 tons)\")\n",
    "plt.ylabel(\"State\")\n",
    "plt.tight_layout()\n",
    "plt.show()"
   ]
  },
  {
   "cell_type": "code",
   "execution_count": null,
   "id": "1b6f19a5",
   "metadata": {},
   "outputs": [],
   "source": [
    "data = pd.DataFrame({\n",
    "    'crop': ['rice'] * len(df) + ['wheat'] * len(df) + ['maize'] * len(df),\n",
    "    'area_(1000_ha)': pd.concat([df['rice_area_(1000_ha)'], df['wheat_area_(1000_ha)'], df['maize_area_(1000_ha)']]),\n",
    "    'production_(1000_tons)': pd.concat([df['rice_production_(1000_tons)'], df['wheat_production_(1000_tons)'], df['maize_production_(1000_tons)']])})\n",
    "\n",
    "plt.figure(figsize=(10, 6))\n",
    "sns.scatterplot(data=data, x='area_(1000_ha)', y='production_(1000_tons)', hue='crop', alpha=0.6)\n",
    "plt.title(\"Impact of Area Cultivated on Production (Rice, Wheat, Maize)\")\n",
    "plt.xlabel(\"Area Cultivated (1000 ha)\")\n",
    "plt.ylabel(\"Production (1000 tons)\")\n",
    "plt.grid(True)\n",
    "plt.tight_layout()\n",
    "plt.show()    "
   ]
  },
  {
   "cell_type": "code",
   "execution_count": null,
   "id": "ee100c7d",
   "metadata": {},
   "outputs": [],
   "source": [
    "yield_df = df.groupby('state_name')[['rice_yield_(kg_per_ha)','wheat_yield_(kg_per_ha)']].mean().head(10)\n",
    "\n",
    "yield_df.plot(kind='bar', figsize=(10, 6))\n",
    "plt.title(\"Rice vs Wheat Yield Across States\")\n",
    "plt.ylabel(\"Yield (Kg per ha)\")\n",
    "plt.xlabel(\"State\")\n",
    "plt.xticks(rotation=45)\n",
    "plt.tight_layout()\n",
    "plt.show()"
   ]
  },
  {
   "cell_type": "code",
   "execution_count": null,
   "id": "6101339f",
   "metadata": {},
   "outputs": [],
   "source": [
    "import mysql.connector\n",
    "\n",
    "conn = mysql.connector.connect(\n",
    "    host=\"localhost\",\n",
    "    user=\"root\",\n",
    "    password=\"\",\n",
    "      port='3307'  # leave blank if using XAMPP default\n",
    ")\n",
    "\n",
    "cursor = conn.cursor(buffered = True)\n"
   ]
  },
  {
   "cell_type": "code",
   "execution_count": null,
   "id": "f56a7e6c",
   "metadata": {},
   "outputs": [],
   "source": [
    "cursor.execute(\"CREATE DATABASE agriculture\")\n",
    "print(\"Database created successfully!\")"
   ]
  },
  {
   "cell_type": "code",
   "execution_count": null,
   "id": "1eddc385",
   "metadata": {},
   "outputs": [],
   "source": [
    "cursor.execute(\"USE agriculture\")"
   ]
  },
  {
   "cell_type": "code",
   "execution_count": null,
   "id": "61b9bdc2",
   "metadata": {},
   "outputs": [],
   "source": [
    "cursor.execute(\"\"\"CREATE TABLE agridata(\n",
    "               year INT(6),state_name VARCHAR(255),dist_name VARCHAR(255),rice_area DECIMAL(5,3),rice_production DECIMAL(5,3),rice_yield DECIMAL(5,3),wheat_area DECIMAL(5,3),\n",
    "               wheat_production DECIMAL(5,3),wheat_yield DECIMAL(5,3),maize_area DECIMAL(5,3),maize_production DECIMAL(5,3),maize_yield DECIMAL(5,3),groundnut_production DECIMAL(5,3),oilseeds_area DECIMAL(5,3),\n",
    "               oilseeds_production DECIMAL(5,3),cotton_production DECIMAL(5,3))\"\"\")  "
   ]
  },
  {
   "cell_type": "code",
   "execution_count": null,
   "id": "88f0e4fc",
   "metadata": {},
   "outputs": [],
   "source": [
    " sdf = df.drop(columns =['dist_code','state_code','kharif_sorghum_area_(1000_ha)','kharif_sorghum_yield_(kg_per_ha)','rabi_sorghum_area_(1000_ha)',\n",
    "                        'rabi_sorghum_yield_(kg_per_ha)','sorghum_area_(1000_ha)','sorghum_production_(1000_tons)','sorghum_yield_(kg_per_ha)','pearl_millet_area_(1000_ha)','pearl_millet_yield_(kg_per_ha)',\n",
    "                        'finger_millet_area_(1000_ha)','finger_millet_yield_(kg_per_ha)', 'barley_area_(1000_ha)', 'barley_production_(1000_tons)', 'barley_yield_(kg_per_ha)',\n",
    "                        'chickpea_area_(1000_ha)', 'chickpea_production_(1000_tons)', 'chickpea_yield_(kg_per_ha)', 'pigeonpea_area_(1000_ha)', 'pigeonpea_production_(1000_tons)', 'pigeonpea_yield_(kg_per_ha)',\n",
    "                        'minor_pulses_area_(1000_ha)', 'minor_pulses_production_(1000_tons)', 'minor_pulses_yield_(kg_per_ha)','groundnut_area_(1000_ha)','groundnut_yield_(kg_per_ha)', 'sesamum_area_(1000_ha)',\n",
    "                        'sesamum_production_(1000_tons)', 'sesamum_yield_(kg_per_ha)', 'rapeseed_and_mustard_area_(1000_ha)', 'rapeseed_and_mustard_production_(1000_tons)', 'rapeseed_and_mustard_yield_(kg_per_ha)',\n",
    "                        'safflower_area_(1000_ha)', 'safflower_production_(1000_tons)', 'safflower_yield_(kg_per_ha)', 'castor_area_(1000_ha)', 'castor_production_(1000_tons)', 'castor_yield_(kg_per_ha)',\n",
    "                        'linseed_area_(1000_ha)', 'linseed_production_(1000_tons)', 'linseed_yield_(kg_per_ha)','sunflower_area_(1000_ha)','sunflower_yield_(kg_per_ha)', 'soyabean_area_(1000_ha)','oilseeds_yield_(kg_per_ha)',\n",
    "                        'sugarcane_area_(1000_ha)','sugarcane_yield_(kg_per_ha)', 'cotton_area_(1000_ha)', 'cotton_yield_(kg_per_ha)', 'fruits_area_(1000_ha)', 'vegetables_area_(1000_ha)',\n",
    "                        'fruits_and_vegetables_area_(1000_ha)', 'potatoes_area_(1000_ha)', 'onion_area_(1000_ha)', 'fodder_area_(1000_ha)','kharif_sorghum_production_(1000_tons)','rabi_sorghum_production_(1000_tons)',\n",
    "                        'pearl_millet_production_(1000_tons)','finger_millet_production_(1000_tons)','sunflower_production_(1000_tons)','soyabean_production_(1000_tons)',\n",
    "                        'soyabean_yield_(kg_per_ha)','sugarcane_production_(1000_tons)'] )"
   ]
  },
  {
   "cell_type": "code",
   "execution_count": null,
   "id": "3f0e88f4",
   "metadata": {},
   "outputs": [],
   "source": [
    "for index,row in sdf.iterrows():\n",
    "    cursor.execute(\"\"\"INSERT INTO agridata\n",
    "                     (year,state_name,dist_name,rice_area,rice_production,rice_yield,wheat_area,wheat_production,\n",
    "                     wheat_yield,maize_area,maize_production,maize_yield,groundnut_production,oilseeds_area,oilseeds_production,cotton_production)\n",
    "                     VALUES (%s,%s,%s,%s,%s,%s,%s,%s,%s,%s,%s,%s,%s,%s,%s,%s)\"\"\",tuple(row))\n",
    "conn.commit() "
   ]
  },
  {
   "cell_type": "code",
   "execution_count": null,
   "id": "2b36087d",
   "metadata": {},
   "outputs": [],
   "source": [
    "for col in sdf.columns:\n",
    "    print(col)"
   ]
  },
  {
   "cell_type": "code",
   "execution_count": null,
   "id": "3a0b39a1",
   "metadata": {},
   "outputs": [],
   "source": [
    "from tabulate import tabulate"
   ]
  },
  {
   "cell_type": "code",
   "execution_count": null,
   "id": "21f6871d",
   "metadata": {},
   "outputs": [],
   "source": [
    "q1 =\"\"\"\n",
    "SELECT \n",
    "    a.year, \n",
    "    a.state_name, \n",
    "    SUM(a.rice_production) AS production\n",
    "FROM agridata AS a\n",
    "JOIN (\n",
    "    SELECT state_name\n",
    "    FROM agridata\n",
    "    GROUP BY state_name\n",
    "    ORDER BY SUM(rice_production) DESC\n",
    "    LIMIT 3\n",
    ") AS top_states\n",
    "ON a.state_name = top_states.state_name\n",
    "GROUP BY a.year, a.state_name\n",
    "ORDER BY a.year, a.state_name;\n",
    "\"\"\"\n",
    "cursor.execute(q1)\n",
    "out=cursor.fetchall()\n",
    "print(tabulate(out,headers=[i[0] for i in cursor.description],  tablefmt='grid'))"
   ]
  },
  {
   "cell_type": "code",
   "execution_count": null,
   "id": "8709c48e",
   "metadata": {},
   "outputs": [],
   "source": [
    "q2 = \"\"\"\n",
    "SELECT \n",
    "    dist_name,\n",
    "    MAX(CASE WHEN year = 2017 THEN wheat_yield END) -\n",
    "    MAX(CASE WHEN year = 2012 THEN wheat_yield END) AS yield_increase\n",
    "FROM agridata\n",
    "WHERE year IN (2012, 2017)\n",
    "GROUP BY dist_name\n",
    "HAVING \n",
    "    MAX(CASE WHEN year = 2017 THEN wheat_yield END) IS NOT NULL AND\n",
    "    MAX(CASE WHEN year = 2012 THEN wheat_yield END) IS NOT NULL\n",
    "ORDER BY yield_increase DESC\n",
    "LIMIT 5\"\"\"\n",
    "\n",
    "cursor.execute(q2)\n",
    "out = cursor.fetchall()\n",
    "print(tabulate(out, headers=[i[0] for i in cursor.description], tablefmt='grid'))\n"
   ]
  },
  {
   "cell_type": "code",
   "execution_count": null,
   "id": "224658ab",
   "metadata": {},
   "outputs": [],
   "source": [
    "q3 = \"\"\"\n",
    "SELECT \n",
    "    state_name,\n",
    "    ROUND(\n",
    "        (MAX(CASE WHEN year = 2017 THEN oilseeds_production END) - \n",
    "         MAX(CASE WHEN year = 2012 THEN oilseeds_production END)) * 100.0 /\n",
    "         MAX(CASE WHEN year = 2012 THEN oilseeds_production END),\n",
    "        2\n",
    "    ) AS growth_rate\n",
    "FROM agridata\n",
    "WHERE year IN (2012, 2017)\n",
    "GROUP BY state_name\n",
    "HAVING \n",
    "    MAX(CASE WHEN year = 2012 THEN oilseeds_production END) IS NOT NULL AND\n",
    "    MAX(CASE WHEN year = 2017 THEN oilseeds_production END) IS NOT NULL\n",
    "ORDER BY growth_rate DESC\n",
    "LIMIT 5\"\"\"\n",
    "\n",
    "cursor.execute(q3)\n",
    "out = cursor.fetchall()\n",
    "print(tabulate(out, headers=[i[0] for i in cursor.description], tablefmt='grid'))\n"
   ]
  },
  {
   "cell_type": "code",
   "execution_count": null,
   "id": "95fdc697",
   "metadata": {},
   "outputs": [],
   "source": [
    "q4 =\"\"\"SELECT Dist_name, `Crop`, `Year`, `Area`, `Production`\n",
    "FROM (\n",
    "  SELECT dist_name, 'Rice' AS Crop, `year`, rice_area AS Area, rice_production AS Production FROM agridata\n",
    "  UNION ALL\n",
    "  SELECT dist_name, 'Wheat', `year`, wheat_area, wheat_production FROM agridata\n",
    "  UNION ALL\n",
    "  SELECT dist_name, 'Maize', `year`, maize_area, maize_production FROM agridata\n",
    ") AS agridata\n",
    "WHERE Area IS NOT NULL AND Production IS NOT NULL\"\"\"\n",
    "\n",
    "cursor.execute(q4)\n",
    "out = cursor.fetchall()\n",
    "print(tabulate(out, headers=[i[0] for i in cursor.description], tablefmt='grid'))"
   ]
  },
  {
   "cell_type": "code",
   "execution_count": null,
   "id": "98a9e88b",
   "metadata": {},
   "outputs": [],
   "source": [
    "q5 = \"\"\"SELECT `year`, state_name, SUM(cotton_production) AS production\n",
    "FROM agridata\n",
    "WHERE state_name IN (\n",
    "  SELECT state_name FROM(q\n",
    "  SELECT state_name\n",
    "  FROM agridata\n",
    "  GROUP BY state_name\n",
    "  ORDER BY SUM(cotton_production) DESC\n",
    "  LIMIT 5) AS top_states\n",
    ")\n",
    "GROUP BY year,state_name ORDER BY `year`\n",
    "\"\"\"\n",
    "cursor.execute(q5)\n",
    "out = cursor.fetchall()\n",
    "print(tabulate(out, headers=[i[0] for i in cursor.description], tablefmt='grid'))"
   ]
  },
  {
   "cell_type": "code",
   "execution_count": null,
   "id": "d4bb1338",
   "metadata": {},
   "outputs": [],
   "source": [
    "q6 = \"\"\"\n",
    "SELECT \n",
    "    dist_name,\n",
    "    state_name,\n",
    "    SUM(groundnut_production) AS total_production\n",
    "FROM agridata\n",
    "WHERE year = 2020\n",
    "GROUP BY dist_name, state_name\n",
    "ORDER BY total_production DESC\n",
    "LIMIT 10;\n",
    "\"\"\"\n",
    "\n",
    "# Execute the query\n",
    "cursor.execute(q6)\n",
    "out = cursor.fetchall()\n",
    "\n",
    "# Print results in a formatted table\n",
    "from tabulate import tabulate\n",
    "headers = [i[0] for i in cursor.description]\n",
    "print(tabulate(out, headers=headers, tablefmt='grid'))\n"
   ]
  },
  {
   "cell_type": "code",
   "execution_count": null,
   "id": "95683c0e",
   "metadata": {},
   "outputs": [],
   "source": [
    "q7 = \"SELECT state_name, AVG(maize_yield) AS avg_yield FROM agridata GROUP BY state_name ORDER BY avg_yield DESC\"\n",
    "cursor.execute(q7)\n",
    "out = cursor.fetchall()\n",
    "print(tabulate(out, headers=[i[0] for i in cursor.description], tablefmt='grid'))\n"
   ]
  },
  {
   "cell_type": "code",
   "execution_count": null,
   "id": "ddeed7f3",
   "metadata": {},
   "outputs": [],
   "source": [
    "q8 = \"SELECT state_name,SUM(oilseeds_area) AS total_area FROM agridata GROUP BY state_name ORDER BY total_area DESC\"\n",
    "cursor.execute(q8)\n",
    "out = cursor.fetchall()\n",
    "print(tabulate(out, headers=[i[0] for i in cursor.description], tablefmt='grid'))\n"
   ]
  },
  {
   "cell_type": "code",
   "execution_count": null,
   "id": "99fe5367",
   "metadata": {},
   "outputs": [],
   "source": [
    "q9 = \"SELECT dist_name,state_name,SUM(rice_yield) FROM agridata GROUP BY dist_name,state_name ORDER BY rice_yield DESC LIMIT 5\"\n",
    "cursor.execute(q9)\n",
    "out = cursor.fetchall()\n",
    "print(tabulate(out, headers=[i[0] for i in cursor.description], tablefmt='grid'))"
   ]
  },
  {
   "cell_type": "code",
   "execution_count": null,
   "id": "80a7639d",
   "metadata": {},
   "outputs": [],
   "source": [
    "q10 = \"\"\"\n",
    "WITH top_5_states AS (\n",
    "    SELECT \n",
    "        state_name,\n",
    "        SUM(rice_production + wheat_production) AS total_production\n",
    "    FROM agridata\n",
    "    WHERE year >= 2011\n",
    "    GROUP BY state_name\n",
    "    ORDER BY total_production DESC\n",
    "    LIMIT 5\n",
    ")\n",
    "SELECT \n",
    "    a.year,\n",
    "    a.state_name,\n",
    "    SUM(a.rice_production) AS rice_production,\n",
    "    SUM(a.wheat_production) AS wheat_production\n",
    "FROM agridata a\n",
    "JOIN top_5_states t ON a.state_name = t.state_name\n",
    "WHERE a.year >= 2011\n",
    "GROUP BY a.year, a.state_name\n",
    "ORDER BY a.state_name, a.year;\n",
    "\"\"\"\n",
    "\n",
    "# Execute and fetch results\n",
    "cursor.execute(q10)\n",
    "out = cursor.fetchall()\n",
    "\n",
    "# Print the output in a readable table\n",
    "from tabulate import tabulate\n",
    "headers = [i[0] for i in cursor.description]\n",
    "print(tabulate(out, headers=headers, tablefmt='grid'))\n"
   ]
  },
  {
   "cell_type": "code",
   "execution_count": null,
   "id": "06fb1f90",
   "metadata": {},
   "outputs": [],
   "source": []
  }
 ],
 "metadata": {
  "kernelspec": {
   "display_name": "env",
   "language": "python",
   "name": "python3"
  },
  "language_info": {
   "codemirror_mode": {
    "name": "ipython",
    "version": 3
   },
   "file_extension": ".py",
   "mimetype": "text/x-python",
   "name": "python",
   "nbconvert_exporter": "python",
   "pygments_lexer": "ipython3",
   "version": "3.13.2"
  }
 },
 "nbformat": 4,
 "nbformat_minor": 5
}
